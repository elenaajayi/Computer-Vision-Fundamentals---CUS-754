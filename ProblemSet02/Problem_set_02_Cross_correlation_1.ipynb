{
  "nbformat": 4,
  "nbformat_minor": 0,
  "metadata": {
    "colab": {
      "provenance": [],
      "include_colab_link": true
    },
    "kernelspec": {
      "name": "python3",
      "display_name": "Python 3"
    }
  },
  "cells": [
    {
      "cell_type": "markdown",
      "metadata": {
        "id": "view-in-github",
        "colab_type": "text"
      },
      "source": [
        "<a href=\"https://colab.research.google.com/github/elenaajayi/Computer-Vision-Fundamentals---CUS-754/blob/main/ProblemSet02/Problem_set_02_Cross_correlation_1.ipynb\" target=\"_parent\"><img src=\"https://colab.research.google.com/assets/colab-badge.svg\" alt=\"Open In Colab\"/></a>"
      ]
    },
    {
      "cell_type": "markdown",
      "metadata": {
        "id": "_Jk-XWL_ICsc"
      },
      "source": [
        "This notebook is part the of Dr. Christoforos Christoforou's course materials. You may not, nor may you knowingly allow others to reproduce or distribute lecture notes, course materials or any of their derivatives without the instructor's express written consent."
      ]
    },
    {
      "cell_type": "markdown",
      "metadata": {
        "id": "mGWGpILX6Caz"
      },
      "source": [
        "# Problem Set 02 - Cross Correlation\n",
        "**Professor:** Dr. Christoforos Christoforou\n",
        "\n",
        "For this problem set you will need the following libraries, which are pre-installed with the colab environment:\n",
        "\n",
        "* [Numpy](https://www.numpy.org/) is an array manipulation library, used for linear algebra, Fourier transform, and random number capabilities.\n",
        "* [Pandas](https://pandas.pydata.org/) is a library for data manipulation and data analysis.\n",
        "* [CV2](https://opencv-python-tutroals.readthedocs.io/en/latest/py_tutorials/py_gui/py_image_display/py_image_display.html) is a library for computer vision tasks.\n",
        "* [Skimage](https://scikit-image.org/) is a library which supports image processing applications on python.\n",
        "* [Matplotlib](https://matplotlib.org/) is a library which generates figures and provides graphical user interface toolkit.\n",
        "\n",
        "You can load them using the following import statement:\n",
        "\n"
      ]
    },
    {
      "cell_type": "code",
      "metadata": {
        "id": "m5xcgMf35rfn"
      },
      "source": [
        "import numpy as np\n",
        "import pandas as pd\n",
        "import cv2 as cv\n",
        "from google.colab.patches import cv2_imshow # for image display\n",
        "from skimage import io\n",
        "from PIL import Image\n",
        "import matplotlib.pylab as plt"
      ],
      "execution_count": null,
      "outputs": []
    },
    {
      "cell_type": "markdown",
      "metadata": {
        "id": "mSJ_VpGu6XWz"
      },
      "source": [
        "## Image Sources\n",
        "For this problem set you are asked to load and pre-process images. You can choose to use your own images, or download images from the following sources:\n",
        "\n",
        "**Image source examples**\n",
        "\n",
        "- [Place Kitten API](https://placekitten.com/) - use the base Place Kitten URL followed by a width and height separated by backslashes ''/''. For example, use the URL `https://placekitten.com/500/300` to fetch a cat image with a width of 500px and height of 300px.\n",
        "\n",
        "- [Lorem Picsum Photos API ](https://picsum.photos/images) - generates random images from the web.\n",
        "\n",
        "- [NC State University Libraries Special Collections](https://d.lib.ncsu.edu/collections/catalog) - browse the site to find an image thumbnail. Right-click on the thumbnail and select \"Copy Image Address\". The address will look like this: `https://iiif.lib.ncsu.edu/iiif/0051230/square/300,/0/default.jpg`. Replace the word \"square\" with the word \"full\" and replace \"300\" with \"800\" to access the full image at a width of 800px.\n",
        "\n",
        "- [Google Image search](https://www.google.com/imghp?hl=en) - search for an image. Left-click one of the returned images, then right-click on the full image, and then select \"Copy Image Address\".\n"
      ]
    },
    {
      "cell_type": "markdown",
      "metadata": {
        "id": "7vT11GJ-6qjO"
      },
      "source": [
        "## Example code\n",
        "\n",
        "The code below illustrates how to use OpenCV to filter images by applying the cross-correlation operator. Try to reproduce the code in the cell below; you can use this sample code as a reference to implement the exercises that follow in this problem set.\n",
        "\n",
        "```python\n",
        "\n",
        "# load the input image and convert it to grayscale\n",
        "# - use the io.imread method from skimage package to read an image from url.\n",
        "# - use cv form opencv package to change the the image to grayscale.\n",
        "\n",
        "url = \"https://placekitten.com/255/256\"\n",
        "image = io.imread(url)\n",
        "gray = cv.cvtColor(image, cv.COLOR_BGR2GRAY)\n",
        "\n",
        "#\n",
        "# Define the kernel to use:  \n",
        "#\n",
        "kernel_choice = \"box\"\n",
        "\n",
        "if kernel_choice == \"box\":\n",
        "  # Box filter - size 9\n",
        "  kernel = np.ones((9,9),np.float32)/81\n",
        "elif kernel_choice ==\"gauss\":\n",
        "  # Gaussian filter - kernel size 5, sigma 5\n",
        "  kernel = cv.getGaussianKernel(ksize=5,sigma=5)\n",
        "\n",
        "#\n",
        "# Use cv.filter2D from the openCV package - applies cross-correlation with a given kernel\n",
        "#\n",
        "\n",
        "# apply filter to the grayscale imager.\n",
        "gray_conv = cv.filter2D(gray, -1, kernel)\n",
        "\n",
        "# apply filter to the colored image.\n",
        "image_conv = cv.filter2D(image, -1, kernel)\n",
        "\n",
        "#\n",
        "# Display the images.\n",
        "#\n",
        "\n",
        "plt.figure(figsize=(100,100))\n",
        "# show the grayscale image.\n",
        "plt.subplot(2,2,1)\n",
        "plt.imshow(image)\n",
        "plt.xticks([]), plt.yticks([]), plt.title('Original Colored')\n",
        "\n",
        "plt.subplot(2,2,2)\n",
        "plt.imshow(image_conv)\n",
        "plt.xticks([]), plt.yticks([]), plt.title('Averaged colored')\n",
        "\n",
        "# show the grayscale image.\n",
        "plt.subplot(2,2,3)\n",
        "plt.imshow(gray, cmap='gray')\n",
        "plt.xticks([]), plt.yticks([]), plt.title('Original Gratscake')\n",
        "plt.subplot(2,2,4)\n",
        "plt.imshow(gray_conv, cmap='gray')\n",
        "plt.xticks([]), plt.yticks([]), plt.title('Average Grayscale')\n",
        "\n",
        "```\n",
        "\n"
      ]
    },
    {
      "cell_type": "code",
      "metadata": {
        "id": "cQiQl-qf6Qog"
      },
      "source": [
        "# TODO: Use this cell to reporduce the code above.\n",
        "# - Try to use different images from the one provided.\n",
        "# - Try to change the size, and the standard sigma for the kernel.\n"
      ],
      "execution_count": null,
      "outputs": []
    },
    {
      "cell_type": "markdown",
      "metadata": {
        "id": "TzEpGFRR7qZ5"
      },
      "source": [
        "## Exercise 02: Generating Noisy images.\n",
        "\n",
        "**Task 2.1**. Implement a function called `addGaussianNoise(img,sigma)` that takes as an input argument an image (img) and a noise level `sigma`, and return a noisy version of the image by adding gaussian noise.\n",
        "\n",
        "\n",
        "**Task 2.2**. Implement a function called `addSaltAndPepperNoise(img,noise_level)` that takes as an input argument an image (img) and a noise level `noise_level`, and return a noisy version of the image by adding salt and pepper noise. The noise_level would be a number between 0..1, which denotes the probability a pixel is converted to a noisy pixel.\n",
        "\n",
        "**Task 2.3**. Implement a function called `addImpulseNoise(img,noise_level)` that takes as an input argument an image (img) and a noise level `noise_level`, and return a noisy version of the image by adding salt and pepper noise. The noise_level would be a number between 0..1, which denotes the probability a pixel is converted to a noisy pixel.\n"
      ]
    },
    {
      "cell_type": "code",
      "metadata": {
        "id": "DwjyOd-j7e6L"
      },
      "source": [
        "# Implement Task 2.1 here."
      ],
      "execution_count": null,
      "outputs": []
    },
    {
      "cell_type": "code",
      "metadata": {
        "id": "XymjkJOt8IqQ"
      },
      "source": [
        "# Implement Task 2.2 here"
      ],
      "execution_count": null,
      "outputs": []
    },
    {
      "cell_type": "code",
      "metadata": {
        "id": "VwZVpoXQ8Ko4"
      },
      "source": [
        "# Implement Task 2.3 here"
      ],
      "execution_count": null,
      "outputs": []
    },
    {
      "cell_type": "markdown",
      "metadata": {
        "id": "gNTkj-VV8Yx9"
      },
      "source": [
        "## Exercise 3: Apply filtering using OpenCV library.\n",
        "\n",
        "**Task 3.1** Identify an image from the web, load it in python and generate two noisy versions of the input image, one by adding Gaussian noise and a second by salt and pepper noise. Use the functions you implemented in the previous exercise. Display the resulting images.\n",
        "\n",
        "\n",
        "**Task 3.2** Compare the effects of denoising using box filter vs a gaussian filter on each image, as you change the level of noise. Try at least 5 different noise levels for each noise type, and keep the kernel size fixed. For each parameter configuration, display the four images in a single row as follows:\n",
        "\n",
        "  - show the original image, use title \"Original\"\n",
        "  - display the noisy image, in title indicate the noise type and noise level.\n",
        "  - display the filtered images using a gaussian filter.\n",
        "  - display the filtered image using the box filter.\n",
        "  \n",
        "\n",
        "**Task 3.3** Compare the effects of kernel-size and standard-deviation when using a Gaussian filter. Try applying a gaussian filter of kernel sizes 3,5,7,11,and 15 and try different standard deviation Configurations. Use one of the noisy images you generated previously, keep the noise level fixed. For each parameter configuration display the image resulting images in a single row, as follows:\n",
        "  \n",
        "  - Display the noisy image, use title \"Noisy\"\n",
        "  - display the filtered images using a gaussian filter; in title indicate the kernel size, and standard deviations used."
      ]
    },
    {
      "cell_type": "code",
      "metadata": {
        "id": "cXzP-O6B8MUE"
      },
      "source": [
        "# Implement Task 3.1 here."
      ],
      "execution_count": null,
      "outputs": []
    },
    {
      "cell_type": "code",
      "metadata": {
        "id": "7QmPq-IL-dSD"
      },
      "source": [
        "# Implement Task 3.2 here."
      ],
      "execution_count": null,
      "outputs": []
    },
    {
      "cell_type": "code",
      "metadata": {
        "id": "ghkhM5eO-gPg"
      },
      "source": [
        "# Implement Task 3.3 here."
      ],
      "execution_count": null,
      "outputs": []
    },
    {
      "cell_type": "markdown",
      "metadata": {
        "id": "gWouo1rl-n54"
      },
      "source": [
        "## Exercse 4: Implementing convolution from scratch\n",
        "\n",
        "Image filtering (or convolution) is a fundamental image processing tool. In this exercise, you will be writing your own function to implement image filtering from scratch. More specifically, you will implement the function `my_filter2D()` which imitates the filter2D function in the OpenCV library.\n",
        "\n",
        "Your filtering algorithm must\n",
        "- (1) support grayscale and color images\n",
        "- (2) support arbitrary shaped filters, as long as both dimensions are odd (e.g. 7x9 filters but not 4x5 filters)\n",
        "- (3) pad the input image with zeros or reflected image content and\n",
        "- (4) return a filtered image which is the same resolution as the input image."
      ]
    },
    {
      "cell_type": "code",
      "metadata": {
        "id": "AZp1Zv3M-nVs"
      },
      "source": [
        "# Use this cell to implement Exercise 4. Use additional cells if necessary.\n"
      ],
      "execution_count": null,
      "outputs": []
    },
    {
      "cell_type": "markdown",
      "metadata": {
        "id": "A4-hBSuh_GHd"
      },
      "source": [
        "## Exercse 5: Test your implementation\n",
        "Demonstrate the correctness of your my_filter2D function implementation from Exercise 4, by applying it to different scenarios. Compare the output of your function to the corresponding output from when using cv.imfilter2D method provided by openCV library (i.e. show the two results side by side). In particular demonstrate the your implementation supports:\n",
        "\n",
        "  - support grayscale and color images\n",
        "  - support arbitrary shaped filters,\n",
        "  - supports pad the input image with zeros or reflected image content\n",
        "\n",
        "\n"
      ]
    },
    {
      "cell_type": "code",
      "metadata": {
        "id": "x0F1SznW-hZ1"
      },
      "source": [
        "# Use this cell to implement excercise 5; Use one cell for each test."
      ],
      "execution_count": null,
      "outputs": []
    },
    {
      "cell_type": "code",
      "metadata": {
        "id": "ubxovuNkHWkd"
      },
      "source": [],
      "execution_count": null,
      "outputs": []
    },
    {
      "cell_type": "markdown",
      "metadata": {
        "id": "76vGnBXZIWoI"
      },
      "source": [
        "\n",
        "Copyright Statement: Copyright © 2020 Christoforou. The materials provided by the instructor of this course, including this notebook, are for the use of the students enrolled in the course. Materials are presented in an educational context for personal use and study and should not be shared, distributed, disseminated or sold in print — or digitally — outside the course without permission. You may not, nor may you knowingly allow others to reproduce or distribute lecture notes, course materials as well as any of their derivatives without the instructor's express written consent."
      ]
    },
    {
      "cell_type": "markdown",
      "metadata": {
        "id": "ffPKUknMHXQX"
      },
      "source": []
    }
  ]
}