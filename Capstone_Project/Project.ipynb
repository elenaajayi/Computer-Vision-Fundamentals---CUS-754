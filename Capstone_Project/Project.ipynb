{
  "nbformat": 4,
  "nbformat_minor": 0,
  "metadata": {
    "colab": {
      "provenance": [],
      "authorship_tag": "ABX9TyOQPp9q6zuq7bZg/qlFdILD",
      "include_colab_link": true
    },
    "kernelspec": {
      "name": "python3",
      "display_name": "Python 3"
    },
    "language_info": {
      "name": "python"
    }
  },
  "cells": [
    {
      "cell_type": "markdown",
      "metadata": {
        "id": "view-in-github",
        "colab_type": "text"
      },
      "source": [
        "<a href=\"https://colab.research.google.com/github/elenaajayi/Computer-Vision-Fundamentals---CUS-754/blob/main/Capstone_Project/Project.ipynb\" target=\"_parent\"><img src=\"https://colab.research.google.com/assets/colab-badge.svg\" alt=\"Open In Colab\"/></a>"
      ]
    },
    {
      "cell_type": "code",
      "execution_count": 1,
      "metadata": {
        "id": "SwC8MnNGTKbV",
        "colab": {
          "base_uri": "https://localhost:8080/"
        },
        "outputId": "f0aeb345-dc80-4f95-ac5d-0677ec338d68"
      },
      "outputs": [
        {
          "output_type": "stream",
          "name": "stdout",
          "text": [
            "Mounted at /content/drive\n",
            "unzip:  cannot find or open /content/drive/MyDrive/HAM10000/HAM10000_images_part_1.zip, /content/drive/MyDrive/HAM10000/HAM10000_images_part_1.zip.zip or /content/drive/MyDrive/HAM10000/HAM10000_images_part_1.zip.ZIP.\n",
            "unzip:  cannot find or open /content/drive/MyDrive/HAM10000/HAM10000_images_part_2.zip, /content/drive/MyDrive/HAM10000/HAM10000_images_part_2.zip.zip or /content/drive/MyDrive/HAM10000/HAM10000_images_part_2.zip.ZIP.\n",
            "unzip:  cannot find or open /content/drive/MyDrive/HAM10000/HAM10000_metadata.zip, /content/drive/MyDrive/HAM10000/HAM10000_metadata.zip.zip or /content/drive/MyDrive/HAM10000/HAM10000_metadata.zip.ZIP.\n",
            "unzip:  cannot find or open /content/drive/MyDrive/HAM10000/HAM10000_segmentations_lesion_tschandl.zip, /content/drive/MyDrive/HAM10000/HAM10000_segmentations_lesion_tschandl.zip.zip or /content/drive/MyDrive/HAM10000/HAM10000_segmentations_lesion_tschandl.zip.ZIP.\n"
          ]
        }
      ],
      "source": [
        "from google.colab import drive\n",
        "drive.mount('/content/drive')  # grant permissions\n",
        "\n",
        "# paths in your Drive\n",
        "root = '/content/drive/MyDrive/HAM10000'\n",
        "\n",
        "# unzip both parts into one folder\n",
        "!unzip -q \"{root}/HAM10000_images_part_1.zip\" -d /content/HAM10000_images\n",
        "!unzip -q \"{root}/HAM10000_images_part_2.zip\" -d /content/HAM10000_images\n",
        "\n",
        "# unzip metadata & masks if you want\n",
        "!unzip -q \"{root}/HAM10000_metadata.zip\"   -d /content/HAM10000\n",
        "!unzip -q \"{root}/HAM10000_segmentations_lesion_tschandl.zip\" -d /content/HAM10000_masks\n"
      ]
    }
  ]
}